{
 "cells": [
  {
   "cell_type": "code",
   "execution_count": 13,
   "metadata": {},
   "outputs": [],
   "source": [
    "# Auxiliary\n",
    "import pandas as pd\n",
    "import numpy as np\n",
    "from sklearn.base import TransformerMixin\n",
    "\n",
    "# Validation\n",
    "from sklearn.model_selection import train_test_split\n",
    "from sklearn.metrics import classification_report\n",
    "from sklearn.metrics import f1_score\n",
    "from sklearn.model_selection import KFold\n",
    "\n",
    "# Feature extraction\n",
    "from sklearn.feature_extraction.text import CountVectorizer\n",
    "from sklearn.feature_extraction.text import TfidfTransformer\n",
    "\n",
    "# Stat Models\n",
    "from sklearn.linear_model import LogisticRegression"
   ]
  },
  {
   "attachments": {},
   "cell_type": "markdown",
   "metadata": {},
   "source": [
    "# Load 15k Data"
   ]
  },
  {
   "cell_type": "code",
   "execution_count": 14,
   "metadata": {},
   "outputs": [
    {
     "data": {
      "text/html": [
       "<div>\n",
       "<style scoped>\n",
       "    .dataframe tbody tr th:only-of-type {\n",
       "        vertical-align: middle;\n",
       "    }\n",
       "\n",
       "    .dataframe tbody tr th {\n",
       "        vertical-align: top;\n",
       "    }\n",
       "\n",
       "    .dataframe thead th {\n",
       "        text-align: right;\n",
       "    }\n",
       "</style>\n",
       "<table border=\"1\" class=\"dataframe\">\n",
       "  <thead>\n",
       "    <tr style=\"text-align: right;\">\n",
       "      <th></th>\n",
       "      <th>text</th>\n",
       "      <th>label</th>\n",
       "    </tr>\n",
       "  </thead>\n",
       "  <tbody>\n",
       "    <tr>\n",
       "      <th>0</th>\n",
       "      <td>My 87 year old grandmother has been quarantini...</td>\n",
       "      <td>0</td>\n",
       "    </tr>\n",
       "    <tr>\n",
       "      <th>1</th>\n",
       "      <td>I’m so excited that with this vaccine I can se...</td>\n",
       "      <td>0</td>\n",
       "    </tr>\n",
       "    <tr>\n",
       "      <th>2</th>\n",
       "      <td>So excited that I was able to close out 2020 o...</td>\n",
       "      <td>0</td>\n",
       "    </tr>\n",
       "    <tr>\n",
       "      <th>3</th>\n",
       "      <td>I’m getting my COVID-19 vaccine, baby! I’m so ...</td>\n",
       "      <td>0</td>\n",
       "    </tr>\n",
       "    <tr>\n",
       "      <th>4</th>\n",
       "      <td>Excited and grateful for ending 2020 with the ...</td>\n",
       "      <td>0</td>\n",
       "    </tr>\n",
       "  </tbody>\n",
       "</table>\n",
       "</div>"
      ],
      "text/plain": [
       "                                                text  label\n",
       "0  My 87 year old grandmother has been quarantini...      0\n",
       "1  I’m so excited that with this vaccine I can se...      0\n",
       "2  So excited that I was able to close out 2020 o...      0\n",
       "3  I’m getting my COVID-19 vaccine, baby! I’m so ...      0\n",
       "4  Excited and grateful for ending 2020 with the ...      0"
      ]
     },
     "execution_count": 14,
     "metadata": {},
     "output_type": "execute_result"
    }
   ],
   "source": [
    "data = pd.read_csv('data/15k-labeled-binary-all.csv')\n",
    "data = data.dropna()\n",
    "# Map pro-vax and neutral together\n",
    "data.head()"
   ]
  },
  {
   "cell_type": "code",
   "execution_count": 15,
   "metadata": {},
   "outputs": [],
   "source": [
    "# Pre split off test data\n",
    "data_test = data.sample(frac=0.1)\n",
    "data = data.drop(data_test.index)"
   ]
  },
  {
   "cell_type": "code",
   "execution_count": 16,
   "metadata": {},
   "outputs": [],
   "source": [
    "#fracs = [0.001, 0.002, 0.003, 0.004, 0.005, 0.0075, 0.01, 0.025, 0.05, 0.075] + [0.1, 0.15, 0.2, 0.25, 0.3, 0.35, 0.4, 0.45, 0.5, 0.55, 0.6, 0.65, 0.7, 0.75, 0.8, 0.85, 0.9, 0.95, 1.0]\n",
    "fracs = [0.01, 0.025, 0.05, 0.075] + [0.1, 0.15, 0.2, 0.25, 0.3, 0.35, 0.4, 0.45, 0.5, 0.55, 0.6, 0.65, 0.7, 0.75, 0.8, 0.85, 0.9, 0.95, 1.0]"
   ]
  },
  {
   "cell_type": "code",
   "execution_count": 17,
   "metadata": {},
   "outputs": [
    {
     "name": "stdout",
     "output_type": "stream",
     "text": [
      "(104,)\n",
      "(259,)\n",
      "(518,)\n",
      "(776,)\n",
      "(1035,)\n",
      "(1553,)\n",
      "(2071,)\n",
      "(2588,)\n",
      "(3106,)\n",
      "(3624,)\n",
      "(4141,)\n",
      "(4659,)\n",
      "(5176,)\n",
      "(5694,)\n",
      "(6212,)\n",
      "(6729,)\n",
      "(7247,)\n",
      "(7765,)\n",
      "(8282,)\n",
      "(8800,)\n",
      "(9318,)\n",
      "(9835,)\n",
      "(10353,)\n"
     ]
    }
   ],
   "source": [
    "#fracs = [0.1, 0.2, 0.3, 0.4, 0.5]\n",
    "\n",
    "Multinom_Scores = []\n",
    "Multinom_Accuracies = []\n",
    "\n",
    "for frac in fracs:\n",
    "    X = data['text']\n",
    "    y = data['label']\n",
    "    nrow = X.shape[0]\n",
    "\n",
    "    samp_size = np.round(nrow * frac).astype(int)\n",
    "    samples = np.random.choice(np.arange(0, nrow), size=samp_size, replace=False)\n",
    "\n",
    "    X = X.iloc[samples]\n",
    "    y = y.iloc[samples]\n",
    "\n",
    "    # Initialize empty lists for storing errors\n",
    "    multinom_scores = []\n",
    "    multinom_accuracies = []\n",
    "\n",
    "    # Kfold spec\n",
    "    kf = KFold(n_splits=5)\n",
    "\n",
    "    vect = CountVectorizer(binary=True)\n",
    "    print(X.shape)\n",
    "    \n",
    "    for train_index, val_index in kf.split(X):\n",
    "\n",
    "        # Split Training and Test data\n",
    "        X_train, X_val = X.iloc[train_index], X.iloc[val_index]\n",
    "        y_train, y_val = y.iloc[train_index], y.iloc[val_index]\n",
    "\n",
    "        # Fit and transform the text data * Note the difference between fit_transform() and transform()\n",
    "        X_train = vect.fit_transform(X_train)\n",
    "        X_val = vect.transform(X_val)\n",
    "\n",
    "        # # Note: this section may make the explanation more complicated, but it does slightly improve performance\n",
    "        tfidf_transformer=TfidfTransformer(smooth_idf=True,use_idf=True) \n",
    "        X_train = tfidf_transformer.fit_transform(X_train)\n",
    "        X_val = tfidf_transformer.transform(X_val)\n",
    "\n",
    "        ## MULTINOMIAL REGRESSION\n",
    "        # Review on use of alpha parameter: default smoothing\n",
    "        multinom = LogisticRegression()\n",
    "        multinom.fit(X_train, y_train)\n",
    "        y_pred = multinom.predict(X_val)\n",
    "        # Prediction error\n",
    "        score = f1_score(y_val, y_pred, average='weighted')\n",
    "        multinom_scores.append(score)\n",
    "        # Accuracy\n",
    "        accuracy = np.mean(1 - np.abs(y_val - y_pred))\n",
    "        multinom_accuracies.append(accuracy)\n",
    "\n",
    "\n",
    "    Multinom_Accuracies.append(np.mean(multinom_accuracies))\n",
    "    Multinom_Scores.append(np.mean(multinom_scores)) "
   ]
  },
  {
   "attachments": {},
   "cell_type": "markdown",
   "metadata": {},
   "source": [
    "# Run for Comparison Data"
   ]
  },
  {
   "cell_type": "code",
   "execution_count": 18,
   "metadata": {},
   "outputs": [
    {
     "name": "stdout",
     "output_type": "stream",
     "text": [
      "Value Counts: \n",
      " 0    595\n",
      "1    404\n",
      "Name: Rating, dtype: int64\n"
     ]
    },
    {
     "data": {
      "text/html": [
       "<div>\n",
       "<style scoped>\n",
       "    .dataframe tbody tr th:only-of-type {\n",
       "        vertical-align: middle;\n",
       "    }\n",
       "\n",
       "    .dataframe tbody tr th {\n",
       "        vertical-align: top;\n",
       "    }\n",
       "\n",
       "    .dataframe thead th {\n",
       "        text-align: right;\n",
       "    }\n",
       "</style>\n",
       "<table border=\"1\" class=\"dataframe\">\n",
       "  <thead>\n",
       "    <tr style=\"text-align: right;\">\n",
       "      <th></th>\n",
       "      <th>text</th>\n",
       "      <th>label</th>\n",
       "      <th>rating</th>\n",
       "    </tr>\n",
       "  </thead>\n",
       "  <tbody>\n",
       "    <tr>\n",
       "      <th>0</th>\n",
       "      <td>the original strain of sars-cov- and variants...</td>\n",
       "      <td>0</td>\n",
       "      <td>['origin', 'strain', 'sars-cov', '-', 'variant...</td>\n",
       "    </tr>\n",
       "    <tr>\n",
       "      <th>1</th>\n",
       "      <td>disinformation kills antivaxxer propaganda is...</td>\n",
       "      <td>0</td>\n",
       "      <td>['disinform', 'kill', 'antivaxx', 'propaganda'...</td>\n",
       "    </tr>\n",
       "    <tr>\n",
       "      <th>2</th>\n",
       "      <td>experience from south africa amp omicron calls...</td>\n",
       "      <td>0</td>\n",
       "      <td>['experi', 'south', 'africa', 'amp', 'omicron'...</td>\n",
       "    </tr>\n",
       "    <tr>\n",
       "      <th>3</th>\n",
       "      <td>even the american civil liberties union aclu ...</td>\n",
       "      <td>0</td>\n",
       "      <td>['even', 'american', 'civil', 'liberti', 'unio...</td>\n",
       "    </tr>\n",
       "    <tr>\n",
       "      <th>4</th>\n",
       "      <td>rt  eu and au agree to transfer technology for...</td>\n",
       "      <td>0</td>\n",
       "      <td>['rt', 'eu', 'au', 'agre', 'transfer', 'techno...</td>\n",
       "    </tr>\n",
       "  </tbody>\n",
       "</table>\n",
       "</div>"
      ],
      "text/plain": [
       "                                                text  label  \\\n",
       "0   the original strain of sars-cov- and variants...      0   \n",
       "1   disinformation kills antivaxxer propaganda is...      0   \n",
       "2  experience from south africa amp omicron calls...      0   \n",
       "3   even the american civil liberties union aclu ...      0   \n",
       "4  rt  eu and au agree to transfer technology for...      0   \n",
       "\n",
       "                                              rating  \n",
       "0  ['origin', 'strain', 'sars-cov', '-', 'variant...  \n",
       "1  ['disinform', 'kill', 'antivaxx', 'propaganda'...  \n",
       "2  ['experi', 'south', 'africa', 'amp', 'omicron'...  \n",
       "3  ['even', 'american', 'civil', 'liberti', 'unio...  \n",
       "4  ['rt', 'eu', 'au', 'agre', 'transfer', 'techno...  "
      ]
     },
     "execution_count": 18,
     "metadata": {},
     "output_type": "execute_result"
    }
   ],
   "source": [
    "data = pd.read_csv('data/covid-labeled-binary.csv')\n",
    "data = data.dropna()\n",
    "# Map pro-vax and neutral together\n",
    "data['Rating'] = data.Rating.map({1.0:0, 2.0:0, 3.0:1})\n",
    "print(\"Value Counts: \\n\", (data.Rating.value_counts()))\n",
    "data.columns = ['text', 'label', 'rating']\n",
    "data.head()"
   ]
  },
  {
   "cell_type": "code",
   "execution_count": 19,
   "metadata": {},
   "outputs": [],
   "source": [
    "# Pre split off test data\n",
    "data_test = data.sample(frac=0.1)\n",
    "data = data.drop(data_test.index)"
   ]
  },
  {
   "cell_type": "code",
   "execution_count": 20,
   "metadata": {},
   "outputs": [
    {
     "name": "stdout",
     "output_type": "stream",
     "text": [
      "(9,)\n",
      "(22,)\n",
      "(45,)\n",
      "(67,)\n",
      "(90,)\n",
      "(135,)\n",
      "(180,)\n",
      "(225,)\n",
      "(270,)\n",
      "(315,)\n",
      "(360,)\n",
      "(405,)\n",
      "(450,)\n",
      "(494,)\n",
      "(539,)\n",
      "(584,)\n",
      "(629,)\n",
      "(674,)\n",
      "(719,)\n",
      "(764,)\n",
      "(809,)\n",
      "(854,)\n",
      "(899,)\n"
     ]
    }
   ],
   "source": [
    "#fracs = [0.1, 0.2, 0.3, 0.4, 0.5]\n",
    "\n",
    "Multinom_Scores2 = []\n",
    "Multinom_Accuracies2 = []\n",
    "\n",
    "for frac in fracs:\n",
    "    X = data['text']\n",
    "    y = data['label']\n",
    "    nrow = X.shape[0]\n",
    "\n",
    "    samp_size = np.round(nrow * frac).astype(int)\n",
    "    samples = np.random.choice(np.arange(0, nrow), size=samp_size, replace=False)\n",
    "\n",
    "    X = X.iloc[samples]\n",
    "    y = y.iloc[samples]\n",
    "\n",
    "    # Initialize empty lists for storing errors\n",
    "    multinom_scores = []\n",
    "    multinom_accuracies = []\n",
    "\n",
    "    # Kfold spec\n",
    "    kf = KFold(n_splits=5)\n",
    "\n",
    "    vect = CountVectorizer(binary=True)\n",
    "    print(X.shape)\n",
    "    \n",
    "    for train_index, val_index in kf.split(X):\n",
    "\n",
    "        # Split Training and Test data\n",
    "        X_train, X_val = X.iloc[train_index], X.iloc[val_index]\n",
    "        y_train, y_val = y.iloc[train_index], y.iloc[val_index]\n",
    "\n",
    "        # Fit and transform the text data * Note the difference between fit_transform() and transform()\n",
    "        X_train = vect.fit_transform(X_train)\n",
    "        X_val = vect.transform(X_val)\n",
    "\n",
    "        # # Note: this section may make the explanation more complicated, but it does slightly improve performance\n",
    "        tfidf_transformer=TfidfTransformer(smooth_idf=True,use_idf=True) \n",
    "        X_train = tfidf_transformer.fit_transform(X_train)\n",
    "        X_val = tfidf_transformer.transform(X_val)\n",
    "\n",
    "        ## MULTINOMIAL REGRESSION\n",
    "        # Review on use of alpha parameter: default smoothing\n",
    "        multinom = LogisticRegression()\n",
    "        multinom.fit(X_train, y_train)\n",
    "        y_pred = multinom.predict(X_val)\n",
    "        # Prediction error\n",
    "        score = f1_score(y_val, y_pred, average='weighted')\n",
    "        multinom_scores.append(score)\n",
    "        # Accuracy\n",
    "        accuracy = np.mean(1 - np.abs(y_val - y_pred))\n",
    "        multinom_accuracies.append(accuracy)\n",
    "\n",
    "\n",
    "    Multinom_Accuracies2.append(np.mean(multinom_accuracies))\n",
    "    Multinom_Scores2.append(np.mean(multinom_scores)) "
   ]
  },
  {
   "attachments": {},
   "cell_type": "markdown",
   "metadata": {},
   "source": [
    "# Plotting"
   ]
  },
  {
   "cell_type": "code",
   "execution_count": 21,
   "metadata": {},
   "outputs": [],
   "source": [
    "import matplotlib.pyplot as plt"
   ]
  },
  {
   "cell_type": "code",
   "execution_count": 22,
   "metadata": {},
   "outputs": [
    {
     "data": {
      "text/plain": [
       "(899, 3)"
      ]
     },
     "execution_count": 22,
     "metadata": {},
     "output_type": "execute_result"
    }
   ],
   "source": [
    "data.shape"
   ]
  },
  {
   "cell_type": "code",
   "execution_count": 23,
   "metadata": {},
   "outputs": [],
   "source": [
    "#np.array(fracs)*data_size"
   ]
  },
  {
   "cell_type": "code",
   "execution_count": 24,
   "metadata": {},
   "outputs": [
    {
     "data": {
      "image/png": "[encoded data removed]",
      "text/plain": [
       "<Figure size 640x480 with 1 Axes>"
      ]
     },
     "metadata": {},
     "output_type": "display_data"
    }
   ],
   "source": [
    "data_size = 10353\n",
    "\n",
    "plt.plot(np.array(fracs)*data_size, Multinom_Accuracies, label = 'Anti-Vax Model Accuracy')\n",
    "plt.plot(np.array(fracs)*data_size, Multinom_Scores, label = 'Anti-Vax Model F1-Score')\n",
    "\n",
    "plt.plot(np.array(fracs)*1000, Multinom_Accuracies2, label = 'Comparison Model Accuracy')\n",
    "plt.plot(np.array(fracs)*1000, Multinom_Scores2, label = 'Comparison Model F1-Score')\n",
    "\n",
    "plt.legend()\n",
    "plt.xlabel(\"Training Data Size\")\n",
    "plt.ylabel(\"Test Score\")\n",
    "plt.title(\"Logistic Model Performance over Absolute Count of Training Size\")\n",
    "plt.show()"
   ]
  },
  {
   "cell_type": "code",
   "execution_count": null,
   "metadata": {},
   "outputs": [],
   "source": []
  }
 ],
 "metadata": {
  "kernelspec": {
   "display_name": "ml",
   "language": "python",
   "name": "python3"
  },
  "language_info": {
   "codemirror_mode": {
    "name": "ipython",
    "version": 3
   },
   "file_extension": ".py",
   "mimetype": "text/x-python",
   "name": "python",
   "nbconvert_exporter": "python",
   "pygments_lexer": "ipython3",
   "version": "3.10.6"
  },
  "orig_nbformat": 4
 },
 "nbformat": 4,
 "nbformat_minor": 2
}
